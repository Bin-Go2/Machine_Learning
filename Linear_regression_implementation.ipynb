{
 "cells": [
  {
   "cell_type": "markdown",
   "metadata": {},
   "source": [
    "This is the implemetation of LinearRegression with Multiple Variables"
   ]
  },
  {
   "cell_type": "markdown",
   "metadata": {},
   "source": [
    "## Import the libraries that will be used and get the defined data"
   ]
  },
  {
   "cell_type": "code",
   "execution_count": 1,
   "metadata": {},
   "outputs": [],
   "source": [
    "import numpy as np\n",
    "import matplotlib.pyplot as plt"
   ]
  },
  {
   "cell_type": "code",
   "execution_count": 2,
   "metadata": {},
   "outputs": [
    {
     "name": "stdout",
     "output_type": "stream",
     "text": [
      "train_set_x shape: (5, 7000)\n",
      "train_set_y shape: (1, 7000)\n",
      "test_set_x shape: (5, 3000)\n",
      "test_set_y shape: (1, 3000)\n"
     ]
    }
   ],
   "source": [
    "def load_dataset():\n",
    "    '''\n",
    "    here we randomize data to simulate data \n",
    "    X (10000,5)\n",
    "    Y (10000,1)\n",
    "    '''\n",
    "    rate = 0.7\n",
    "    X = np.random.rand(10000,5)\n",
    "    Y = np.random.randint(-1000,100,(10000,1))\n",
    "    train_set_x_orig = X[:int(rate*len(X))][:]\n",
    "    train_set_y = Y[:int(rate*len(X))][:]\n",
    "    test_set_x_orig = X[int(rate*len(X)):][:]\n",
    "    test_set_y = Y[int(rate*len(X)):][:]\n",
    "\n",
    "    return train_set_x_orig, train_set_y, test_set_x_orig, test_set_y\n",
    "\n",
    "# Loading the data\n",
    "train_set_x_orig, train_set_y, test_set_x_orig, test_set_y = load_dataset()\n",
    "\n",
    "\n",
    "# process the data  normalize the attribute of x  here we omit it .\n",
    "train_set_x = train_set_x_orig.reshape((5,-1))\n",
    "test_set_x = test_set_x_orig.reshape((5,-1))\n",
    "train_set_y = train_set_y.reshape((1,-1))\n",
    "test_set_y = test_set_y.reshape((1,-1))\n",
    "\n",
    "print (\"train_set_x shape: \" + str(train_set_x.shape))\n",
    "print (\"train_set_y shape: \" + str(train_set_y.shape))\n",
    "print (\"test_set_x shape: \" + str(test_set_x.shape))\n",
    "print (\"test_set_y shape: \" + str(test_set_y.shape))\n",
    "\n",
    "\n",
    "\n",
    "## 注意：多变量线性回归之前必须要Feature Scaling"
   ]
  },
  {
   "cell_type": "markdown",
   "metadata": {},
   "source": [
    "## First part: Initialize the parameters(w,b) of the model"
   ]
  },
  {
   "cell_type": "code",
   "execution_count": 3,
   "metadata": {},
   "outputs": [
    {
     "name": "stdout",
     "output_type": "stream",
     "text": [
      "w shape: (5, 1)\n",
      "b : 0\n"
     ]
    }
   ],
   "source": [
    "def initilize_param(feature_num):\n",
    "    w = np.zeros((feature_num, 1))\n",
    "    b = 0\n",
    "    return w, b\n",
    "\n",
    "w,b = initilize_param(train_set_x.shape[0])\n",
    "print (\"w shape: \" + str(w.shape))\n",
    "print (\"b : \" + str(b))"
   ]
  },
  {
   "cell_type": "markdown",
   "metadata": {},
   "source": [
    "## Second part : make propagations\n",
    "\n",
    "\n",
    "\n",
    "$$\\hat{Y} = w^T X + b $$\n",
    "\n",
    "\n",
    "for each sample $x^{(i)}$:\n",
    "$$ \\mathcal{L}  = \\frac{1}{2} ( \\hat y^{(i)} - y^{(i)} ) ^2$$\n",
    "\n",
    "Cost Function:\n",
    "$$ J = \\frac{1}{2m} \\sum_{i=1}^m \\mathcal{L}$$\n",
    "\n",
    "$$ \\frac{\\partial J}{\\partial w} = \\frac{1}{m}X (\\hat{Y}-Y)^T$$\n",
    "$$ \\frac{\\partial J}{\\partial b} = \\frac{1}{m} \\sum_{i=1}^m (\\hat y^{(i)}-y^{(i)})$$"
   ]
  },
  {
   "cell_type": "code",
   "execution_count": 4,
   "metadata": {},
   "outputs": [],
   "source": [
    "def propagate(w, b, X, Y):\n",
    "    m = X.shape[1] # number of samples\n",
    "    \n",
    "    Y_hat = np.dot(w.T,X) + b\n",
    "    \n",
    "    cost = 1/(2*m) * np.sum(np.square(Y_hat-Y))     #   (1,m) \n",
    "    \n",
    "    dw = 1/m*np.dot(X,(Y_hat-Y).T)  # (n,1) \n",
    "    db = 1/m * np.sum(Y_hat-Y)  \n",
    "    \n",
    "    grads = {\"dw\": dw,\n",
    "             \"db\": db}\n",
    "    \n",
    "    return grads,cost"
   ]
  },
  {
   "cell_type": "markdown",
   "metadata": {},
   "source": [
    "## Third Part: use gradient descend to optimize param"
   ]
  },
  {
   "cell_type": "code",
   "execution_count": 5,
   "metadata": {},
   "outputs": [],
   "source": [
    "def optimize(w, b, X, Y, num_iterations, learning_rate):\n",
    "    \n",
    "    costs = []\n",
    "    for i in range(num_iterations):\n",
    "        \n",
    "        grads,cost = propagate(w,b,X,Y)\n",
    "        dw = grads[\"dw\"]\n",
    "        db = grads[\"db\"]\n",
    "        \n",
    "        w = w - learning_rate * dw\n",
    "        b = b - learning_rate * db\n",
    "\n",
    "        costs.append(cost)\n",
    "    \n",
    "    params = {\"w\": w,\n",
    "              \"b\": b}\n",
    "    \n",
    "    grads = {\"dw\": dw,\n",
    "             \"db\": db}\n",
    "        \n",
    "    return params, grads, costs\n",
    "\n",
    "\n",
    "params, grads, costs = optimize(w, b, train_set_x, train_set_y, num_iterations=10000, learning_rate=0.1)"
   ]
  },
  {
   "cell_type": "code",
   "execution_count": 6,
   "metadata": {},
   "outputs": [
    {
     "data": {
      "image/png": "[encoded data removed]",
      "text/plain": [
       "<Figure size 432x288 with 1 Axes>"
      ]
     },
     "metadata": {
      "needs_background": "light"
     },
     "output_type": "display_data"
    }
   ],
   "source": [
    "## we can visualize the cost to see if it's decresing\n",
    "plt.plot(costs)\n",
    "plt.ylabel('cost')\n",
    "plt.xlabel('iterations (per hundreds)')\n",
    "plt.title(\"Learning rate =\" + str(0.1))\n",
    "plt.show()"
   ]
  },
  {
   "cell_type": "markdown",
   "metadata": {},
   "source": [
    "## Fourth Part: predict y for x "
   ]
  },
  {
   "cell_type": "code",
   "execution_count": 7,
   "metadata": {},
   "outputs": [],
   "source": [
    "def predict(w, b, X):  \n",
    "    m = X.shape[1]\n",
    "    Y_prediction = np.zeros((1,m))\n",
    "    w = w.reshape(X.shape[0], 1)\n",
    "    Y_prediction = np.dot(w.T, X) + b\n",
    "\n",
    "    return Y_prediction"
   ]
  },
  {
   "cell_type": "markdown",
   "metadata": {},
   "source": [
    "## Final Part: Merge all functions and bulid a complete model"
   ]
  },
  {
   "cell_type": "code",
   "execution_count": 8,
   "metadata": {},
   "outputs": [],
   "source": [
    "# GRADED FUNCTION: model\n",
    "\n",
    "def model(X_train, Y_train, X_test, Y_test, num_iterations = 2000, learning_rate = 0.05):\n",
    "\n",
    " \n",
    "    w, b = initilize_param(X_train.shape[0])\n",
    "\n",
    "    # Gradient descent \n",
    "    parameters, grads, costs = optimize(w, b, X_train, Y_train, num_iterations, learning_rate)\n",
    "    \n",
    "    # Retrieve parameters w and b from dictionary \"parameters\"\n",
    "    w = parameters[\"w\"]\n",
    "    b = parameters[\"b\"]\n",
    "    \n",
    "    # Predict test/train set examples (≈ 2 lines of code)\n",
    "    Y_prediction_test = predict(w, b, X_test)\n",
    "    Y_prediction_train = predict(w, b, X_train)\n",
    "\n",
    "    ### END CODE HERE ###\n",
    "    \n",
    "    # Print train/test Errors\n",
    "    print(\"train MSE: {} \".format(np.sum(Y_prediction_train-Y_train)))\n",
    "    print(\"test MSE : {} \".format(np.sum(Y_prediction_test-Y_test)))\n",
    "\n",
    "    \n",
    "    d = {\"costs\": costs,\n",
    "         \"Y_prediction_test\": Y_prediction_test, \n",
    "         \"Y_prediction_train\" : Y_prediction_train, \n",
    "         \"w\" : w, \n",
    "         \"b\" : b,\n",
    "         \"learning_rate\" : learning_rate,\n",
    "         \"num_iterations\": num_iterations}\n",
    "    \n",
    "    return d"
   ]
  },
  {
   "cell_type": "code",
   "execution_count": 9,
   "metadata": {},
   "outputs": [
    {
     "name": "stdout",
     "output_type": "stream",
     "text": [
      "train MSE: 1953.654306572429 \n",
      "test MSE : -38752.55494358481 \n"
     ]
    }
   ],
   "source": [
    "d = model(train_set_x, train_set_y, test_set_x, test_set_y, num_iterations = 2000, learning_rate = 0.05)\n",
    "\n",
    "# this is the data problem "
   ]
  },
  {
   "cell_type": "code",
   "execution_count": null,
   "metadata": {},
   "outputs": [],
   "source": []
  }
 ],
 "metadata": {
  "kernelspec": {
   "display_name": "Python 3",
   "language": "python",
   "name": "python3"
  },
  "language_info": {
   "codemirror_mode": {
    "name": "ipython",
    "version": 3
   },
   "file_extension": ".py",
   "mimetype": "text/x-python",
   "name": "python",
   "nbconvert_exporter": "python",
   "pygments_lexer": "ipython3",
   "version": "3.7.3"
  }
 },
 "nbformat": 4,
 "nbformat_minor": 2
}
